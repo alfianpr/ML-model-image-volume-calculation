{
  "cells": [
    {
      "cell_type": "markdown",
      "metadata": {
        "id": "StJQir8nBSw6"
      },
      "source": [
        "## Menyiapkan Library yang digunakan"
      ]
    },
    {
      "cell_type": "markdown",
      "metadata": {
        "colab_type": "text",
        "id": "view-in-github"
      },
      "source": [
        "<a href=\"https://colab.research.google.com/github/alfianpr/perhitungan-volume-objek-simetri/blob/main/Multiple_Linear_Regression_Telur.ipynb\" target=\"_parent\"><img src=\"https://colab.research.google.com/assets/colab-badge.svg\" alt=\"Open In Colab\"/></a>"
      ]
    },
    {
      "cell_type": "code",
      "execution_count": 21,
      "metadata": {
        "id": "_c-EfAIPA0ow"
      },
      "outputs": [],
      "source": [
        "import pandas as pd\n",
        "import matplotlib.pyplot as plt\n",
        "import numpy as np\n",
        "import seaborn as sns\n",
        "from sklearn.linear_model import LinearRegression\n",
        "from sklearn.model_selection import train_test_split"
      ]
    },
    {
      "cell_type": "markdown",
      "metadata": {
        "id": "m3ahagCuBkmR"
      },
      "source": [
        "## Menyiapkan dan melihat data"
      ]
    },
    {
      "cell_type": "code",
      "execution_count": 22,
      "metadata": {
        "colab": {
          "base_uri": "https://localhost:8080/"
        },
        "id": "izeu5qKsBbni",
        "outputId": "2c2592ab-5da4-4a02-8c23-063f581ac200"
      },
      "outputs": [
        {
          "name": "stdout",
          "output_type": "stream",
          "text": [
            "5 data teratas :\n",
            "   pixel  volume  jarak\n",
            "0  61460      60    0.3\n",
            "1  66223      65    0.3\n",
            "2  59072      55    0.3\n",
            "3  61466      55    0.3\n",
            "4  59938      55    0.3\n",
            "Jumlah kolom dan baris dari data : (100, 3)\n",
            "informasi data :\n",
            "<class 'pandas.core.frame.DataFrame'>\n",
            "RangeIndex: 100 entries, 0 to 99\n",
            "Data columns (total 3 columns):\n",
            " #   Column  Non-Null Count  Dtype  \n",
            "---  ------  --------------  -----  \n",
            " 0   pixel   100 non-null    int64  \n",
            " 1   volume  100 non-null    int64  \n",
            " 2   jarak   100 non-null    float64\n",
            "dtypes: float64(1), int64(2)\n",
            "memory usage: 2.5 KB\n",
            "None\n",
            "data statistik :\n",
            "              pixel      volume       jarak\n",
            "count    100.000000  100.000000  100.000000\n",
            "mean   46407.040000   59.250000    0.340000\n",
            "std     9887.544429    4.286165    0.028427\n",
            "min    28771.000000   50.000000    0.300000\n",
            "25%    37807.500000   55.000000    0.320000\n",
            "50%    44376.500000   60.000000    0.340000\n",
            "75%    52872.750000   61.250000    0.360000\n",
            "max    70240.000000   65.000000    0.380000\n"
          ]
        }
      ],
      "source": [
        "df = pd.read_excel(r\"C:\\Users\\acer\\OneDrive - Universitas Diponegoro\\project\\perhitungan-volume-objek-simetri\\dataset_telur.xlsx\", usecols=['pixel', 'volume', 'jarak'])\n",
        "\n",
        "print('5 data teratas :')\n",
        "print(df.head())\n",
        "print('Jumlah kolom dan baris dari data :', df.shape)\n",
        "print('informasi data :')\n",
        "print(df.info())\n",
        "print('data statistik :')\n",
        "print(df.describe())"
      ]
    },
    {
      "cell_type": "markdown",
      "metadata": {
        "id": "Xqmy3VhyeYqI"
      },
      "source": [
        "## Cek missing value"
      ]
    },
    {
      "cell_type": "code",
      "execution_count": 23,
      "metadata": {
        "colab": {
          "base_uri": "https://localhost:8080/"
        },
        "id": "7wp0TmgKeQz8",
        "outputId": "a55898d2-f0f8-47d1-a97e-a0f233943728"
      },
      "outputs": [
        {
          "data": {
            "text/plain": [
              "pixel     0\n",
              "volume    0\n",
              "jarak     0\n",
              "dtype: int64"
            ]
          },
          "execution_count": 23,
          "metadata": {},
          "output_type": "execute_result"
        }
      ],
      "source": [
        "#Mencari dan menangani missing values\n",
        "df.isnull().sum()"
      ]
    },
    {
      "cell_type": "markdown",
      "metadata": {
        "id": "5VY5KsKCe-cs"
      },
      "source": [
        "## Exploratory Data Analysis"
      ]
    },
    {
      "cell_type": "code",
      "execution_count": 24,
      "metadata": {
        "colab": {
          "base_uri": "https://localhost:8080/",
          "height": 265
        },
        "id": "RlzsFw5DfJAI",
        "outputId": "88efb243-123a-4869-e886-f31e0f5fd9e6"
      },
      "outputs": [
        {
          "data": {
            "image/png": "[encoded data removed]",
            "text/plain": [
              "<Figure size 864x288 with 2 Axes>"
            ]
          },
          "metadata": {
            "needs_background": "light"
          },
          "output_type": "display_data"
        }
      ],
      "source": [
        "#Univariate analysis pixel\n",
        "\n",
        "f = plt.figure(figsize=(12,4))\n",
        "\n",
        "f.add_subplot(1,2,1)\n",
        "df['pixel'].plot(kind='kde')\n",
        "\n",
        "f.add_subplot(1,2,2)\n",
        "plt.boxplot(df['pixel'])\n",
        "\n",
        "plt.show()"
      ]
    },
    {
      "cell_type": "code",
      "execution_count": 25,
      "metadata": {
        "colab": {
          "base_uri": "https://localhost:8080/",
          "height": 334
        },
        "id": "19gW23uQfjJS",
        "outputId": "9c00e31b-4b1b-47ef-b263-47fb2c135792"
      },
      "outputs": [
        {
          "data": {
            "image/png": "[encoded data removed]",
            "text/plain": [
              "<Figure size 864x288 with 2 Axes>"
            ]
          },
          "metadata": {
            "needs_background": "light"
          },
          "output_type": "display_data"
        }
      ],
      "source": [
        "#Univariate analysis volume.\n",
        "\n",
        "f = plt.figure(figsize=(12,4))\n",
        "\n",
        "f.add_subplot(1,2,1)\n",
        "df['volume'].plot(kind='kde')\n",
        "\n",
        "f.add_subplot(1,2,2)\n",
        "plt.boxplot(df['volume'])\n",
        "\n",
        "plt.show()"
      ]
    },
    {
      "cell_type": "code",
      "execution_count": 26,
      "metadata": {
        "colab": {
          "base_uri": "https://localhost:8080/",
          "height": 265
        },
        "id": "_nmM3hfMg6rX",
        "outputId": "63ef600c-5cfe-42e9-885d-0dd3887c6602"
      },
      "outputs": [
        {
          "data": {
            "image/png": "[encoded data removed]",
            "text/plain": [
              "<Figure size 864x288 with 2 Axes>"
            ]
          },
          "metadata": {
            "needs_background": "light"
          },
          "output_type": "display_data"
        }
      ],
      "source": [
        "#Univariate analysis jarak\n",
        "\n",
        "f = plt.figure(figsize=(12,4))\n",
        "\n",
        "f.add_subplot(1,2,1)\n",
        "df['jarak'].plot(kind='kde')\n",
        "\n",
        "f.add_subplot(1,2,2)\n",
        "plt.boxplot(df['jarak'])\n",
        "\n",
        "plt.show()"
      ]
    },
    {
      "cell_type": "code",
      "execution_count": 27,
      "metadata": {
        "colab": {
          "base_uri": "https://localhost:8080/",
          "height": 463
        },
        "id": "uqt5RtXfiibU",
        "outputId": "7ce2ba9a-6534-468a-924e-efe799ef9f42"
      },
      "outputs": [
        {
          "data": {
            "text/plain": [
              "<seaborn.axisgrid.PairGrid at 0x19e193785e0>"
            ]
          },
          "execution_count": 27,
          "metadata": {},
          "output_type": "execute_result"
        },
        {
          "data": {
            "text/plain": [
              "<Figure size 720x576 with 0 Axes>"
            ]
          },
          "metadata": {},
          "output_type": "display_data"
        },
        {
          "data": {
            "image/png": "[encoded data removed]",
            "text/plain": [
              "<Figure size 540x360 with 2 Axes>"
            ]
          },
          "metadata": {
            "needs_background": "light"
          },
          "output_type": "display_data"
        }
      ],
      "source": [
        "#Bivariate analysis antara independent variable dan dependent variable.\n",
        "\n",
        "plt.figure(figsize=(10,8))\n",
        "sns.pairplot(data=df, x_vars=['pixel', 'jarak'], y_vars=['volume'], height=5, aspect=0.75)"
      ]
    },
    {
      "cell_type": "markdown",
      "metadata": {},
      "source": [
        "## Menghapus outlier"
      ]
    },
    {
      "cell_type": "code",
      "execution_count": 28,
      "metadata": {},
      "outputs": [],
      "source": [
        "#df.drop(1, inplace=True)"
      ]
    },
    {
      "cell_type": "code",
      "execution_count": 29,
      "metadata": {
        "colab": {
          "base_uri": "https://localhost:8080/",
          "height": 143
        },
        "id": "sTx_hX-Biw7z",
        "outputId": "a51a5e86-a2a7-4618-ac65-ad7f7f26698a"
      },
      "outputs": [
        {
          "name": "stderr",
          "output_type": "stream",
          "text": [
            "C:\\Users\\acer\\AppData\\Local\\Temp/ipykernel_7404/1563951346.py:3: FutureWarning: this method is deprecated in favour of `Styler.format(precision=..)`\n",
            "  df.corr().style.background_gradient().set_precision(2)\n"
          ]
        },
        {
          "data": {
            "text/html": [
              "<style type=\"text/css\">\n",
              "#T_f6b9b_row0_col0, #T_f6b9b_row1_col1, #T_f6b9b_row2_col2 {\n",
              "  background-color: #023858;\n",
              "  color: #f1f1f1;\n",
              "}\n",
              "#T_f6b9b_row0_col1 {\n",
              "  background-color: #cacee5;\n",
              "  color: #000000;\n",
              "}\n",
              "#T_f6b9b_row0_col2, #T_f6b9b_row2_col0, #T_f6b9b_row2_col1 {\n",
              "  background-color: #fff7fb;\n",
              "  color: #000000;\n",
              "}\n",
              "#T_f6b9b_row1_col0 {\n",
              "  background-color: #3b92c1;\n",
              "  color: #f1f1f1;\n",
              "}\n",
              "#T_f6b9b_row1_col2 {\n",
              "  background-color: #7eadd1;\n",
              "  color: #f1f1f1;\n",
              "}\n",
              "</style>\n",
              "<table id=\"T_f6b9b_\">\n",
              "  <thead>\n",
              "    <tr>\n",
              "      <th class=\"blank level0\" >&nbsp;</th>\n",
              "      <th class=\"col_heading level0 col0\" >pixel</th>\n",
              "      <th class=\"col_heading level0 col1\" >volume</th>\n",
              "      <th class=\"col_heading level0 col2\" >jarak</th>\n",
              "    </tr>\n",
              "  </thead>\n",
              "  <tbody>\n",
              "    <tr>\n",
              "      <th id=\"T_f6b9b_level0_row0\" class=\"row_heading level0 row0\" >pixel</th>\n",
              "      <td id=\"T_f6b9b_row0_col0\" class=\"data row0 col0\" >1.00</td>\n",
              "      <td id=\"T_f6b9b_row0_col1\" class=\"data row0 col1\" >0.27</td>\n",
              "      <td id=\"T_f6b9b_row0_col2\" class=\"data row0 col2\" >-0.90</td>\n",
              "    </tr>\n",
              "    <tr>\n",
              "      <th id=\"T_f6b9b_level0_row1\" class=\"row_heading level0 row1\" >volume</th>\n",
              "      <td id=\"T_f6b9b_row1_col0\" class=\"data row1 col0\" >0.27</td>\n",
              "      <td id=\"T_f6b9b_row1_col1\" class=\"data row1 col1\" >1.00</td>\n",
              "      <td id=\"T_f6b9b_row1_col2\" class=\"data row1 col2\" >0.00</td>\n",
              "    </tr>\n",
              "    <tr>\n",
              "      <th id=\"T_f6b9b_level0_row2\" class=\"row_heading level0 row2\" >jarak</th>\n",
              "      <td id=\"T_f6b9b_row2_col0\" class=\"data row2 col0\" >-0.90</td>\n",
              "      <td id=\"T_f6b9b_row2_col1\" class=\"data row2 col1\" >0.00</td>\n",
              "      <td id=\"T_f6b9b_row2_col2\" class=\"data row2 col2\" >1.00</td>\n",
              "    </tr>\n",
              "  </tbody>\n",
              "</table>\n"
            ],
            "text/plain": [
              "<pandas.io.formats.style.Styler at 0x19e1938b1f0>"
            ]
          },
          "execution_count": 29,
          "metadata": {},
          "output_type": "execute_result"
        }
      ],
      "source": [
        "#Mengetahui nilai korelasi dari independent variable dan dependent variable.\n",
        "\n",
        "df.corr().style.background_gradient().set_precision(2)"
      ]
    },
    {
      "cell_type": "markdown",
      "metadata": {
        "id": "tyYL-9WQo3lX"
      },
      "source": [
        "## Modelling dan melihat akurasi prediksi"
      ]
    },
    {
      "cell_type": "code",
      "execution_count": 30,
      "metadata": {
        "colab": {
          "base_uri": "https://localhost:8080/"
        },
        "id": "7oJlvDWOo5_N",
        "outputId": "17eca71f-6e72-45ab-b200-3271f13bb4b7"
      },
      "outputs": [
        {
          "name": "stdout",
          "output_type": "stream",
          "text": [
            "[5.85930735e-04 1.76328689e+02]\n",
            "-27.858301085671812\n"
          ]
        }
      ],
      "source": [
        "#variabel x dan y.\n",
        "x = df.drop(columns='volume')\n",
        "y = df['volume']\n",
        "\n",
        "#split data menjadi training and testing dengan porsi 80 : 20.\n",
        "x_train, x_test, y_train, y_test = train_test_split(x, y, train_size=0.8, test_size=0.2, random_state=4)\n",
        "\n",
        "#object linear regresi.\n",
        "lin_reg = LinearRegression()\n",
        "\n",
        "#train the model menggunakan training data yang sudah displit.\n",
        "lin_reg.fit(x_train.values, y_train.values)\n",
        "\n",
        "#nilai slope/koefisien (m) dan intercept (b).\n",
        "print(lin_reg.coef_)\n",
        "print(lin_reg.intercept_)"
      ]
    },
    {
      "cell_type": "markdown",
      "metadata": {
        "id": "2DutNwo83nYl"
      },
      "source": [
        "## Uji akurasi machine learning\n",
        "Didapat akurasi sebesar 91%"
      ]
    },
    {
      "cell_type": "code",
      "execution_count": 31,
      "metadata": {
        "colab": {
          "base_uri": "https://localhost:8080/"
        },
        "id": "JEOdF5Gwqjyf",
        "outputId": "64f3c361-32ba-4784-d42f-f11d6e6b3fa3"
      },
      "outputs": [
        {
          "name": "stdout",
          "output_type": "stream",
          "text": [
            "Skor akurasi model machine learning : 49.61 %\n"
          ]
        }
      ],
      "source": [
        "#Accuracy score model\n",
        "score = lin_reg.score(x_test.values, y_test.values) * 100\n",
        "\n",
        "print (\"Skor akurasi model machine learning :\" ,round(score, 2), \"%\")"
      ]
    },
    {
      "cell_type": "markdown",
      "metadata": {
        "id": "wHA0AolEqvfl"
      },
      "source": [
        "## Memprediksi volume"
      ]
    },
    {
      "cell_type": "code",
      "execution_count": 32,
      "metadata": {
        "colab": {
          "base_uri": "https://localhost:8080/"
        },
        "id": "Qxt7g0hHqvH7",
        "outputId": "c4381bcc-7710-49a6-a75c-a7b7aa904f13"
      },
      "outputs": [
        {
          "data": {
            "text/plain": [
              "array([24080652.22693362])"
            ]
          },
          "execution_count": 32,
          "metadata": {},
          "output_type": "execute_result"
        }
      ],
      "source": [
        "#Prediksi volume menggunakan machine learning dengan input Jarak, Pixel\n",
        "lin_reg.predict([[0.35, 136567]])"
      ]
    }
  ],
  "metadata": {
    "colab": {
      "authorship_tag": "ABX9TyO3K09c2P+sUWLTqh+zpPy9",
      "include_colab_link": true,
      "name": "Multiple Linear Regression Telur.ipynb",
      "provenance": []
    },
    "kernelspec": {
      "display_name": "Python 3",
      "name": "python3"
    },
    "language_info": {
      "codemirror_mode": {
        "name": "ipython",
        "version": 3
      },
      "file_extension": ".py",
      "mimetype": "text/x-python",
      "name": "python",
      "nbconvert_exporter": "python",
      "pygments_lexer": "ipython3",
      "version": "3.9.5"
    }
  },
  "nbformat": 4,
  "nbformat_minor": 0
}
