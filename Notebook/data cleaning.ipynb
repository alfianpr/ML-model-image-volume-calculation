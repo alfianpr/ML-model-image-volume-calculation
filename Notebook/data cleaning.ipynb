{
 "cells": [
  {
   "cell_type": "code",
   "execution_count": 5,
   "metadata": {},
   "outputs": [
    {
     "name": "stdout",
     "output_type": "stream",
     "text": [
      "0.9159515713662256\n"
     ]
    }
   ],
   "source": [
    "import matplotlib.pyplot as plt\n",
    "import statsmodels.api as sm\n",
    "import pandas as pd\n",
    "\n",
    "data = pd.read_excel(\"/home/alfian/Project/Thesis/perhitungan-volume-objek-simetri/telur_clean.xlsx\", \n",
    "        usecols = [\"volume\", \"pixel\", \"jarak\"])\n",
    "\n",
    "x, y = data[[\"pixel\", \"jarak\"]], data.volume\n",
    "x = sm.add_constant(x)\n",
    "model = sm.OLS(y,x).fit()\n",
    "\n",
    "print(model.rsquared_adj)"
   ]
  },
  {
   "cell_type": "code",
   "execution_count": 6,
   "metadata": {},
   "outputs": [
    {
     "data": {
      "image/png": "[encoded data removed]",
      "text/plain": [
       "<Figure size 432x288 with 1 Axes>"
      ]
     },
     "metadata": {
      "needs_background": "light"
     },
     "output_type": "display_data"
    }
   ],
   "source": [
    "plt.scatter(data[\"pixel\"], y)\n",
    "plt.show()"
   ]
  },
  {
   "cell_type": "code",
   "execution_count": 3,
   "metadata": {},
   "outputs": [
    {
     "name": "stdout",
     "output_type": "stream",
     "text": [
      "30.5 :  0.9416546499758434 \n",
      " 35 :  0.9270294209617094 \n",
      " 33 :  0.9697909661520561 \n",
      " 31.5 :  0.9498790297454359 \n",
      " 32.2 :  0.9320260224654732\n"
     ]
    }
   ],
   "source": [
    "data_30_5 = data.loc[data[\"jarak\"] == 30.5]\n",
    "data_35 = data.loc[data[\"jarak\"] == 35]\n",
    "data_33 = data.loc[data[\"jarak\"] == 33]\n",
    "data_31_5 = data.loc[data[\"jarak\"] == 31.5]\n",
    "data_32_2 = data.loc[data[\"jarak\"] == 32.2]\n",
    "\n",
    "x_30_5, y_30_5 = data_30_5[[\"pixel\", \"jarak\"]], data_30_5.volume\n",
    "x_35, y_35 = data_35[[\"pixel\", \"jarak\"]], data_35.volume\n",
    "x_33, y_33 = data_33[[\"pixel\", \"jarak\"]], data_33.volume\n",
    "x_31_5, y_31_5 = data_31_5[[\"pixel\", \"jarak\"]], data_31_5.volume\n",
    "x_32_2, y_32_2 = data_32_2[[\"pixel\", \"jarak\"]], data_32_2.volume\n",
    "\n",
    "x_30_5, x_35, x_33, x_31_5, x_32_2 = sm.add_constant(x_30_5), sm.add_constant(x_35) \\\n",
    "                                , sm.add_constant(x_33), sm.add_constant(x_31_5) \\\n",
    "                                , sm.add_constant(x_32_2)\n",
    "model_30_5, model_35, model_33, model_31_5, model_32_2 = sm.OLS(y_30_5,x_30_5).fit(), sm.OLS(y_35,x_35).fit() \\\n",
    "    , sm.OLS(y_33,x_33).fit(), sm.OLS(y_31_5,x_31_5).fit(), sm.OLS(y_32_2, x_32_2).fit()\n",
    "\n",
    "print(\"30.5 : \", model_30_5.rsquared_adj,\"\\n\",  \"35 : \", model_35.rsquared_adj, \"\\n\", \"33 : \", model_33.rsquared_adj\n",
    "        ,\"\\n\", \"31.5 : \", model_31_5.rsquared_adj, \"\\n\", \"32.2 : \", model_32_2.rsquared_adj)\n"
   ]
  },
  {
   "cell_type": "code",
   "execution_count": 8,
   "metadata": {},
   "outputs": [
    {
     "data": {
      "text/html": [
       "<div>\n",
       "<style scoped>\n",
       "    .dataframe tbody tr th:only-of-type {\n",
       "        vertical-align: middle;\n",
       "    }\n",
       "\n",
       "    .dataframe tbody tr th {\n",
       "        vertical-align: top;\n",
       "    }\n",
       "\n",
       "    .dataframe thead th {\n",
       "        text-align: right;\n",
       "    }\n",
       "</style>\n",
       "<table border=\"1\" class=\"dataframe\">\n",
       "  <thead>\n",
       "    <tr style=\"text-align: right;\">\n",
       "      <th></th>\n",
       "      <th>volume</th>\n",
       "      <th>jarak</th>\n",
       "      <th>pixel</th>\n",
       "    </tr>\n",
       "  </thead>\n",
       "  <tbody>\n",
       "    <tr>\n",
       "      <th>3</th>\n",
       "      <td>50</td>\n",
       "      <td>30.5</td>\n",
       "      <td>233374</td>\n",
       "    </tr>\n",
       "    <tr>\n",
       "      <th>19</th>\n",
       "      <td>50</td>\n",
       "      <td>35.0</td>\n",
       "      <td>160071</td>\n",
       "    </tr>\n",
       "    <tr>\n",
       "      <th>29</th>\n",
       "      <td>50</td>\n",
       "      <td>35.0</td>\n",
       "      <td>163340</td>\n",
       "    </tr>\n",
       "    <tr>\n",
       "      <th>32</th>\n",
       "      <td>50</td>\n",
       "      <td>33.0</td>\n",
       "      <td>171050</td>\n",
       "    </tr>\n",
       "    <tr>\n",
       "      <th>42</th>\n",
       "      <td>50</td>\n",
       "      <td>33.0</td>\n",
       "      <td>173450</td>\n",
       "    </tr>\n",
       "    <tr>\n",
       "      <th>63</th>\n",
       "      <td>50</td>\n",
       "      <td>31.5</td>\n",
       "      <td>196045</td>\n",
       "    </tr>\n",
       "    <tr>\n",
       "      <th>71</th>\n",
       "      <td>50</td>\n",
       "      <td>32.2</td>\n",
       "      <td>189966</td>\n",
       "    </tr>\n",
       "    <tr>\n",
       "      <th>81</th>\n",
       "      <td>50</td>\n",
       "      <td>32.2</td>\n",
       "      <td>189925</td>\n",
       "    </tr>\n",
       "    <tr>\n",
       "      <th>89</th>\n",
       "      <td>50</td>\n",
       "      <td>32.2</td>\n",
       "      <td>179027</td>\n",
       "    </tr>\n",
       "    <tr>\n",
       "      <th>91</th>\n",
       "      <td>50</td>\n",
       "      <td>32.2</td>\n",
       "      <td>192577</td>\n",
       "    </tr>\n",
       "  </tbody>\n",
       "</table>\n",
       "</div>"
      ],
      "text/plain": [
       "    volume  jarak   pixel\n",
       "3       50   30.5  233374\n",
       "19      50   35.0  160071\n",
       "29      50   35.0  163340\n",
       "32      50   33.0  171050\n",
       "42      50   33.0  173450\n",
       "63      50   31.5  196045\n",
       "71      50   32.2  189966\n",
       "81      50   32.2  189925\n",
       "89      50   32.2  179027\n",
       "91      50   32.2  192577"
      ]
     },
     "execution_count": 8,
     "metadata": {},
     "output_type": "execute_result"
    }
   ],
   "source": [
    "data_new = data.loc[data[\"volume\"] == 50]\n",
    "\n",
    "data_new"
   ]
  },
  {
   "cell_type": "code",
   "execution_count": 6,
   "metadata": {},
   "outputs": [
    {
     "name": "stdout",
     "output_type": "stream",
     "text": [
      "0.9416546499758434\n"
     ]
    }
   ],
   "source": [
    "data_test = data.loc[data[\"jarak\"] == 30.5]\n",
    "x, y = data_test[[\"pixel\", \"jarak\"]], data_test.volume\n",
    "x = sm.add_constant(x)\n",
    "model = sm.OLS(y,x).fit()\n",
    "\n",
    "print(model.rsquared_adj)"
   ]
  },
  {
   "cell_type": "code",
   "execution_count": 7,
   "metadata": {},
   "outputs": [
    {
     "data": {
      "image/png": "[encoded data removed]",
      "text/plain": [
       "<Figure size 432x288 with 1 Axes>"
      ]
     },
     "metadata": {
      "needs_background": "light"
     },
     "output_type": "display_data"
    }
   ],
   "source": [
    "plt.scatter(data_test[\"pixel\"], y)\n",
    "plt.show()"
   ]
  }
 ],
 "metadata": {
  "interpreter": {
   "hash": "ecf5722fdaf1897a315d257d89d94520bfcaa453217d5becf09b39e73618b0de"
  },
  "kernelspec": {
   "display_name": "Python 3.9.5 64-bit ('base': conda)",
   "language": "python",
   "name": "python3"
  },
  "language_info": {
   "codemirror_mode": {
    "name": "ipython",
    "version": 3
   },
   "file_extension": ".py",
   "mimetype": "text/x-python",
   "name": "python",
   "nbconvert_exporter": "python",
   "pygments_lexer": "ipython3",
   "version": "3.9.5"
  },
  "orig_nbformat": 4
 },
 "nbformat": 4,
 "nbformat_minor": 2
}
