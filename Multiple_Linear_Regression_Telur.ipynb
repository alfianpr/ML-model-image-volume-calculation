{
  "nbformat": 4,
  "nbformat_minor": 0,
  "metadata": {
    "colab": {
      "name": "Multiple Linear Regression Telur.ipynb",
      "provenance": [],
      "authorship_tag": "ABX9TyOsOQHOlRjwFWwVgtPPF64e",
      "include_colab_link": true
    },
    "kernelspec": {
      "name": "python3",
      "display_name": "Python 3"
    },
    "language_info": {
      "name": "python"
    }
  },
  "cells": [
    {
      "cell_type": "markdown",
      "metadata": {
        "id": "view-in-github",
        "colab_type": "text"
      },
      "source": [
        "<a href=\"https://colab.research.google.com/github/alfianpr/perhitungan-volume-objek-simetri/blob/main/Multiple_Linear_Regression_Telur.ipynb\" target=\"_parent\"><img src=\"https://colab.research.google.com/assets/colab-badge.svg\" alt=\"Open In Colab\"/></a>"
      ]
    },
    {
      "cell_type": "markdown",
      "metadata": {
        "id": "StJQir8nBSw6"
      },
      "source": [
        "##Menyiapkan Library yang digunakan"
      ]
    },
    {
      "cell_type": "code",
      "metadata": {
        "id": "_c-EfAIPA0ow"
      },
      "source": [
        "import pandas as pd\n",
        "import matplotlib.pyplot as plt\n",
        "import numpy as np\n",
        "import seaborn as sns\n",
        "from sklearn.linear_model import LinearRegression\n",
        "from sklearn.model_selection import train_test_split"
      ],
      "execution_count": 2,
      "outputs": []
    },
    {
      "cell_type": "markdown",
      "metadata": {
        "id": "m3ahagCuBkmR"
      },
      "source": [
        "##Menyiapkan dan melihat data"
      ]
    },
    {
      "cell_type": "code",
      "metadata": {
        "colab": {
          "base_uri": "https://localhost:8080/"
        },
        "id": "izeu5qKsBbni",
        "outputId": "90fb0fa3-9cc2-440f-f964-8ebb080703fd"
      },
      "source": [
        "df = pd.read_csv('https://raw.githubusercontent.com/alfianpr/perhitungan-volume-objek-simetri/main/telur.csv', usecols=['pixel', 'volume', 'jarak'])\n",
        "print('5 data teratas :')\n",
        "print(df.head())\n",
        "print('Jumlah kolom dan baris dari data :', df.shape)\n",
        "print('informasi data :')\n",
        "print(df.info())\n",
        "print('data statistik :')\n",
        "print(df.describe())"
      ],
      "execution_count": 14,
      "outputs": [
        {
          "output_type": "stream",
          "name": "stdout",
          "text": [
            "5 data teratas :\n",
            "   pixel  volume  jarak\n",
            "0  57378      60   30.7\n",
            "1  53078      50   30.7\n",
            "2  60613      60   30.7\n",
            "3  53295      50   30.7\n",
            "4  44062      40   30.7\n",
            "Jumlah kolom dan baris dari data : (100, 3)\n",
            "informasi data :\n",
            "<class 'pandas.core.frame.DataFrame'>\n",
            "RangeIndex: 100 entries, 0 to 99\n",
            "Data columns (total 3 columns):\n",
            " #   Column  Non-Null Count  Dtype  \n",
            "---  ------  --------------  -----  \n",
            " 0   pixel   100 non-null    int64  \n",
            " 1   volume  100 non-null    int64  \n",
            " 2   jarak   100 non-null    float64\n",
            "dtypes: float64(1), int64(2)\n",
            "memory usage: 2.5 KB\n",
            "None\n",
            "data statistik :\n",
            "             pixel      volume       jarak\n",
            "count    100.00000  100.000000  100.000000\n",
            "mean   54315.77000   54.100000   30.855000\n",
            "std     4421.07851    6.004207    0.754431\n",
            "min    44062.00000   40.000000   29.700000\n",
            "25%    52051.25000   50.000000   30.450000\n",
            "50%    53681.50000   55.000000   31.000000\n",
            "75%    56926.25000   56.250000   31.600000\n",
            "max    66614.00000   75.000000   31.600000\n"
          ]
        }
      ]
    },
    {
      "cell_type": "code",
      "metadata": {
        "id": "VQJTASatCSvV"
      },
      "source": [
        "#Merubah tipe data yang semula float menjadi int.\n",
        "df['jarak'] = df['jarak'].astype('int')"
      ],
      "execution_count": 15,
      "outputs": []
    },
    {
      "cell_type": "markdown",
      "metadata": {
        "id": "Xqmy3VhyeYqI"
      },
      "source": [
        "##Cek missing value"
      ]
    },
    {
      "cell_type": "code",
      "metadata": {
        "colab": {
          "base_uri": "https://localhost:8080/"
        },
        "id": "7wp0TmgKeQz8",
        "outputId": "ef8fd375-3de3-48a1-b96f-219f789c5e8d"
      },
      "source": [
        "#Mencari dan menangani missing values\n",
        "df.isnull().sum()"
      ],
      "execution_count": 16,
      "outputs": [
        {
          "output_type": "execute_result",
          "data": {
            "text/plain": [
              "pixel     0\n",
              "volume    0\n",
              "jarak     0\n",
              "dtype: int64"
            ]
          },
          "metadata": {},
          "execution_count": 16
        }
      ]
    },
    {
      "cell_type": "markdown",
      "metadata": {
        "id": "5VY5KsKCe-cs"
      },
      "source": [
        "##Exploratory Data Analysis"
      ]
    },
    {
      "cell_type": "code",
      "metadata": {
        "colab": {
          "base_uri": "https://localhost:8080/",
          "height": 265
        },
        "id": "RlzsFw5DfJAI",
        "outputId": "03739313-d1b7-4ed2-ec46-bd5c06302039"
      },
      "source": [
        "#Univariate analysis pixel\n",
        "\n",
        "f = plt.figure(figsize=(12,4))\n",
        "\n",
        "f.add_subplot(1,2,1)\n",
        "df['pixel'].plot(kind='kde')\n",
        "\n",
        "f.add_subplot(1,2,2)\n",
        "plt.boxplot(df['pixel'])\n",
        "\n",
        "plt.show()"
      ],
      "execution_count": 24,
      "outputs": [
        {
          "output_type": "display_data",
          "data": {
            "image/png": "[encoded data removed]",
            "text/plain": [
              "<Figure size 864x288 with 2 Axes>"
            ]
          },
          "metadata": {
            "needs_background": "light"
          }
        }
      ]
    },
    {
      "cell_type": "code",
      "metadata": {
        "colab": {
          "base_uri": "https://localhost:8080/",
          "height": 334
        },
        "id": "19gW23uQfjJS",
        "outputId": "4433cc55-b540-4c7d-d843-eaf85f857159"
      },
      "source": [
        "#Univariate analysis volume.\n",
        "\n",
        "f = plt.figure(figsize=(12,4))\n",
        "\n",
        "f.add_subplot(1,2,1)\n",
        "sns.countplot(df['volume'])\n",
        "\n",
        "f.add_subplot(1,2,2)\n",
        "plt.boxplot(df['volume'])\n",
        "\n",
        "plt.show()"
      ],
      "execution_count": 18,
      "outputs": [
        {
          "output_type": "stream",
          "name": "stderr",
          "text": [
            "/usr/local/lib/python3.7/dist-packages/seaborn/_decorators.py:43: FutureWarning: Pass the following variable as a keyword arg: x. From version 0.12, the only valid positional argument will be `data`, and passing other arguments without an explicit keyword will result in an error or misinterpretation.\n",
            "  FutureWarning\n"
          ]
        },
        {
          "output_type": "display_data",
          "data": {
            "image/png": "[encoded data removed]",
            "text/plain": [
              "<Figure size 864x288 with 2 Axes>"
            ]
          },
          "metadata": {
            "needs_background": "light"
          }
        }
      ]
    },
    {
      "cell_type": "code",
      "metadata": {
        "colab": {
          "base_uri": "https://localhost:8080/",
          "height": 334
        },
        "id": "_nmM3hfMg6rX",
        "outputId": "d6714b7b-c862-4889-da6d-9074e7fae16b"
      },
      "source": [
        "#Univariate analysis jarak\n",
        "\n",
        "f = plt.figure(figsize=(12,4))\n",
        "\n",
        "f.add_subplot(1,2,1)\n",
        "sns.countplot(df['jarak'])\n",
        "\n",
        "f.add_subplot(1,2,2)\n",
        "plt.boxplot(df['jarak'])\n",
        "\n",
        "plt.show()"
      ],
      "execution_count": 25,
      "outputs": [
        {
          "output_type": "stream",
          "name": "stderr",
          "text": [
            "/usr/local/lib/python3.7/dist-packages/seaborn/_decorators.py:43: FutureWarning: Pass the following variable as a keyword arg: x. From version 0.12, the only valid positional argument will be `data`, and passing other arguments without an explicit keyword will result in an error or misinterpretation.\n",
            "  FutureWarning\n"
          ]
        },
        {
          "output_type": "display_data",
          "data": {
            "image/png": "[encoded data removed]",
            "text/plain": [
              "<Figure size 864x288 with 2 Axes>"
            ]
          },
          "metadata": {
            "needs_background": "light"
          }
        }
      ]
    },
    {
      "cell_type": "code",
      "metadata": {
        "colab": {
          "base_uri": "https://localhost:8080/",
          "height": 463
        },
        "id": "uqt5RtXfiibU",
        "outputId": "695c1744-9916-463d-8b84-902fc95c9a83"
      },
      "source": [
        "#Bivariate analysis antara independent variable dan dependent variable.\n",
        "\n",
        "plt.figure(figsize=(10,8))\n",
        "sns.pairplot(data=df, x_vars=['pixel', 'jarak'], y_vars=['volume'], size=5, aspect=0.75)"
      ],
      "execution_count": 26,
      "outputs": [
        {
          "output_type": "stream",
          "name": "stderr",
          "text": [
            "/usr/local/lib/python3.7/dist-packages/seaborn/axisgrid.py:2076: UserWarning: The `size` parameter has been renamed to `height`; please update your code.\n",
            "  warnings.warn(msg, UserWarning)\n"
          ]
        },
        {
          "output_type": "execute_result",
          "data": {
            "text/plain": [
              "<seaborn.axisgrid.PairGrid at 0x7f21fc944ed0>"
            ]
          },
          "metadata": {},
          "execution_count": 26
        },
        {
          "output_type": "display_data",
          "data": {
            "text/plain": [
              "<Figure size 720x576 with 0 Axes>"
            ]
          },
          "metadata": {}
        },
        {
          "output_type": "display_data",
          "data": {
            "image/png": "[encoded data removed]",
            "text/plain": [
              "<Figure size 540x360 with 2 Axes>"
            ]
          },
          "metadata": {
            "needs_background": "light"
          }
        }
      ]
    },
    {
      "cell_type": "code",
      "metadata": {
        "id": "sTx_hX-Biw7z",
        "colab": {
          "base_uri": "https://localhost:8080/",
          "height": 143
        },
        "outputId": "88b4fa41-2251-4d04-a942-002db0a342ca"
      },
      "source": [
        "#Mengetahui nilai korelasi dari independent variable dan dependent variable.\n",
        "\n",
        "df.corr().style.background_gradient().set_precision(2)"
      ],
      "execution_count": 27,
      "outputs": [
        {
          "output_type": "execute_result",
          "data": {
            "text/html": [
              "<style  type=\"text/css\" >\n",
              "#T_08d574e2_4ace_11ec_b815_0242ac1c0002row0_col0,#T_08d574e2_4ace_11ec_b815_0242ac1c0002row1_col1,#T_08d574e2_4ace_11ec_b815_0242ac1c0002row2_col2{\n",
              "            background-color:  #023858;\n",
              "            color:  #f1f1f1;\n",
              "        }#T_08d574e2_4ace_11ec_b815_0242ac1c0002row0_col1{\n",
              "            background-color:  #056ba7;\n",
              "            color:  #f1f1f1;\n",
              "        }#T_08d574e2_4ace_11ec_b815_0242ac1c0002row0_col2,#T_08d574e2_4ace_11ec_b815_0242ac1c0002row2_col0,#T_08d574e2_4ace_11ec_b815_0242ac1c0002row2_col1{\n",
              "            background-color:  #fff7fb;\n",
              "            color:  #000000;\n",
              "        }#T_08d574e2_4ace_11ec_b815_0242ac1c0002row1_col0{\n",
              "            background-color:  #045e93;\n",
              "            color:  #f1f1f1;\n",
              "        }#T_08d574e2_4ace_11ec_b815_0242ac1c0002row1_col2{\n",
              "            background-color:  #b4c4df;\n",
              "            color:  #000000;\n",
              "        }</style><table id=\"T_08d574e2_4ace_11ec_b815_0242ac1c0002\" class=\"dataframe\"><thead>    <tr>        <th class=\"blank level0\" ></th>        <th class=\"col_heading level0 col0\" >pixel</th>        <th class=\"col_heading level0 col1\" >volume</th>        <th class=\"col_heading level0 col2\" >jarak</th>    </tr></thead><tbody>\n",
              "                <tr>\n",
              "                        <th id=\"T_08d574e2_4ace_11ec_b815_0242ac1c0002level0_row0\" class=\"row_heading level0 row0\" >pixel</th>\n",
              "                        <td id=\"T_08d574e2_4ace_11ec_b815_0242ac1c0002row0_col0\" class=\"data row0 col0\" >1.00</td>\n",
              "                        <td id=\"T_08d574e2_4ace_11ec_b815_0242ac1c0002row0_col1\" class=\"data row0 col1\" >0.80</td>\n",
              "                        <td id=\"T_08d574e2_4ace_11ec_b815_0242ac1c0002row0_col2\" class=\"data row0 col2\" >-0.35</td>\n",
              "            </tr>\n",
              "            <tr>\n",
              "                        <th id=\"T_08d574e2_4ace_11ec_b815_0242ac1c0002level0_row1\" class=\"row_heading level0 row1\" >volume</th>\n",
              "                        <td id=\"T_08d574e2_4ace_11ec_b815_0242ac1c0002row1_col0\" class=\"data row1 col0\" >0.80</td>\n",
              "                        <td id=\"T_08d574e2_4ace_11ec_b815_0242ac1c0002row1_col1\" class=\"data row1 col1\" >1.00</td>\n",
              "                        <td id=\"T_08d574e2_4ace_11ec_b815_0242ac1c0002row1_col2\" class=\"data row1 col2\" >0.10</td>\n",
              "            </tr>\n",
              "            <tr>\n",
              "                        <th id=\"T_08d574e2_4ace_11ec_b815_0242ac1c0002level0_row2\" class=\"row_heading level0 row2\" >jarak</th>\n",
              "                        <td id=\"T_08d574e2_4ace_11ec_b815_0242ac1c0002row2_col0\" class=\"data row2 col0\" >-0.35</td>\n",
              "                        <td id=\"T_08d574e2_4ace_11ec_b815_0242ac1c0002row2_col1\" class=\"data row2 col1\" >0.10</td>\n",
              "                        <td id=\"T_08d574e2_4ace_11ec_b815_0242ac1c0002row2_col2\" class=\"data row2 col2\" >1.00</td>\n",
              "            </tr>\n",
              "    </tbody></table>"
            ],
            "text/plain": [
              "<pandas.io.formats.style.Styler at 0x7f21fc8df450>"
            ]
          },
          "metadata": {},
          "execution_count": 27
        }
      ]
    },
    {
      "cell_type": "markdown",
      "metadata": {
        "id": "tyYL-9WQo3lX"
      },
      "source": [
        "##Modelling dan melihat akurasi prediksi"
      ]
    },
    {
      "cell_type": "code",
      "metadata": {
        "colab": {
          "base_uri": "https://localhost:8080/"
        },
        "id": "7oJlvDWOo5_N",
        "outputId": "f1dcbda7-7324-42bf-d6e0-6453dfd4a81f"
      },
      "source": [
        "#variabel x dan y.\n",
        "x = df.drop(columns='volume')\n",
        "y = df['volume']\n",
        "\n",
        "#split data menjadi training and testing dengan porsi 80:20.\n",
        "x_train, x_test, y_train, y_test = train_test_split(x, y, train_size=0.8, test_size=0.2, random_state=4)\n",
        "\n",
        "#object linear regresi.\n",
        "lin_reg = LinearRegression()\n",
        "\n",
        "#train the model menggunakan training data yang sudah displit.\n",
        "lin_reg.fit(x_train.values, y_train.values)\n",
        "\n",
        "#nilai slope/koefisien (m) dan intercept (b).\n",
        "print(lin_reg.coef_)\n",
        "print(lin_reg.intercept_)"
      ],
      "execution_count": 35,
      "outputs": [
        {
          "output_type": "stream",
          "name": "stdout",
          "text": [
            "[1.23845917e-03 2.93286968e+00]\n",
            "-102.15391461650066\n"
          ]
        }
      ]
    },
    {
      "cell_type": "code",
      "metadata": {
        "colab": {
          "base_uri": "https://localhost:8080/"
        },
        "id": "JEOdF5Gwqjyf",
        "outputId": "aa99ea63-514f-4d95-a00e-d7fd6abeaa56"
      },
      "source": [
        "#Accuracy score dengan data test\n",
        "lin_reg.score(x_test.values, y_test.values)"
      ],
      "execution_count": 38,
      "outputs": [
        {
          "output_type": "execute_result",
          "data": {
            "text/plain": [
              "0.8121499333562108"
            ]
          },
          "metadata": {},
          "execution_count": 38
        }
      ]
    },
    {
      "cell_type": "markdown",
      "metadata": {
        "id": "wHA0AolEqvfl"
      },
      "source": [
        "##Prediksi"
      ]
    },
    {
      "cell_type": "code",
      "metadata": {
        "colab": {
          "base_uri": "https://localhost:8080/"
        },
        "id": "Qxt7g0hHqvH7",
        "outputId": "82440fbd-2baa-4e80-9ed9-6d24958413bd"
      },
      "source": [
        "lin_reg.predict([[50000, 30]])"
      ],
      "execution_count": 40,
      "outputs": [
        {
          "output_type": "execute_result",
          "data": {
            "text/plain": [
              "array([47.7551341])"
            ]
          },
          "metadata": {},
          "execution_count": 40
        }
      ]
    }
  ]
}