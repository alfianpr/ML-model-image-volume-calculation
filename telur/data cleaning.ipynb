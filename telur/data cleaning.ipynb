{
 "cells": [
  {
   "cell_type": "code",
   "execution_count": 29,
   "metadata": {},
   "outputs": [
    {
     "name": "stdout",
     "output_type": "stream",
     "text": [
      "0.9121888545702681\n"
     ]
    }
   ],
   "source": [
    "import matplotlib.pyplot as plt\n",
    "import statsmodels.api as sm\n",
    "import pandas as pd\n",
    "\n",
    "data = pd.read_excel(r\"C:\\Users\\acer\\OneDrive - Universitas Diponegoro\\Documents\\Thesis\\telur\\telur_clean.xlsx\", usecols = [\"volume\", \"pixel\", \"jarak\"])\n",
    "\n",
    "x, y = data[[\"pixel\", \"jarak\"]], data.volume\n",
    "x = sm.add_constant(x)\n",
    "model = sm.OLS(y,x).fit()\n",
    "\n",
    "print(model.rsquared_adj)"
   ]
  },
  {
   "cell_type": "code",
   "execution_count": 30,
   "metadata": {},
   "outputs": [
    {
     "data": {
      "image/png": "[encoded data removed]",
      "text/plain": [
       "<Figure size 432x288 with 1 Axes>"
      ]
     },
     "metadata": {
      "needs_background": "light"
     },
     "output_type": "display_data"
    }
   ],
   "source": [
    "plt.scatter(data[\"pixel\"], y)\n",
    "plt.show()"
   ]
  },
  {
   "cell_type": "code",
   "execution_count": 31,
   "metadata": {},
   "outputs": [
    {
     "name": "stdout",
     "output_type": "stream",
     "text": [
      "30.7 :  0.938073662890824 \n",
      " 31.6 :  0.8756470712573597 \n",
      " 31 :  0.9053623319321188 \n",
      " 29.7 :  0.8973945105996901\n"
     ]
    }
   ],
   "source": [
    "data_30_7 = data.loc[data[\"jarak\"] == 30.7]\n",
    "data_31_6 = data.loc[data[\"jarak\"] == 31.6]\n",
    "data_31 = data.loc[data[\"jarak\"] == 31]\n",
    "data_29_7 = data.loc[data[\"jarak\"] == 29.7]\n",
    "\n",
    "x_30_7, y_30_7 = data_30_7[[\"pixel\", \"jarak\"]], data_30_7.volume\n",
    "x_31_6, y_31_6 = data_31_6[[\"pixel\", \"jarak\"]], data_31_6.volume\n",
    "x_31, y_31 = data_31[[\"pixel\", \"jarak\"]], data_31.volume\n",
    "x_29_7, y_29_7 = data_29_7[[\"pixel\", \"jarak\"]], data_29_7.volume\n",
    "\n",
    "x_30_7, x_31_6, x_31, x_29_7 = sm.add_constant(x_30_7), sm.add_constant(x_31_6) \\\n",
    "                                , sm.add_constant(x_31), sm.add_constant(x_29_7)\n",
    "model_30_7, model_31_6, model_31, model_29_7 = sm.OLS(y_30_7,x_30_7).fit(), sm.OLS(y_31_6,x_31_6).fit() \\\n",
    "    , sm.OLS(y_31,x_31).fit(), sm.OLS(y_29_7,x_29_7).fit()\n",
    "\n",
    "print(\"30.7 : \", model_30_7.rsquared_adj,\"\\n\",  \"31.6 : \", model_31_6.rsquared_adj, \"\\n\", \"31 : \", model_31.rsquared_adj\n",
    "        ,\"\\n\", \"29.7 : \", model_29_7.rsquared_adj)\n"
   ]
  },
  {
   "cell_type": "code",
   "execution_count": 32,
   "metadata": {},
   "outputs": [
    {
     "data": {
      "text/html": [
       "<div>\n",
       "<style scoped>\n",
       "    .dataframe tbody tr th:only-of-type {\n",
       "        vertical-align: middle;\n",
       "    }\n",
       "\n",
       "    .dataframe tbody tr th {\n",
       "        vertical-align: top;\n",
       "    }\n",
       "\n",
       "    .dataframe thead th {\n",
       "        text-align: right;\n",
       "    }\n",
       "</style>\n",
       "<table border=\"1\" class=\"dataframe\">\n",
       "  <thead>\n",
       "    <tr style=\"text-align: right;\">\n",
       "      <th></th>\n",
       "      <th>volume</th>\n",
       "      <th>jarak</th>\n",
       "      <th>pixel</th>\n",
       "    </tr>\n",
       "  </thead>\n",
       "  <tbody>\n",
       "    <tr>\n",
       "      <th>7</th>\n",
       "      <td>55</td>\n",
       "      <td>30.7</td>\n",
       "      <td>56897</td>\n",
       "    </tr>\n",
       "    <tr>\n",
       "      <th>9</th>\n",
       "      <td>55</td>\n",
       "      <td>30.7</td>\n",
       "      <td>58183</td>\n",
       "    </tr>\n",
       "    <tr>\n",
       "      <th>15</th>\n",
       "      <td>55</td>\n",
       "      <td>30.7</td>\n",
       "      <td>54665</td>\n",
       "    </tr>\n",
       "    <tr>\n",
       "      <th>21</th>\n",
       "      <td>55</td>\n",
       "      <td>31.6</td>\n",
       "      <td>53032</td>\n",
       "    </tr>\n",
       "    <tr>\n",
       "      <th>28</th>\n",
       "      <td>55</td>\n",
       "      <td>31.6</td>\n",
       "      <td>52405</td>\n",
       "    </tr>\n",
       "    <tr>\n",
       "      <th>29</th>\n",
       "      <td>55</td>\n",
       "      <td>31.6</td>\n",
       "      <td>53574</td>\n",
       "    </tr>\n",
       "    <tr>\n",
       "      <th>31</th>\n",
       "      <td>55</td>\n",
       "      <td>31.6</td>\n",
       "      <td>53913</td>\n",
       "    </tr>\n",
       "    <tr>\n",
       "      <th>32</th>\n",
       "      <td>55</td>\n",
       "      <td>31.6</td>\n",
       "      <td>53434</td>\n",
       "    </tr>\n",
       "    <tr>\n",
       "      <th>33</th>\n",
       "      <td>55</td>\n",
       "      <td>31.6</td>\n",
       "      <td>53641</td>\n",
       "    </tr>\n",
       "    <tr>\n",
       "      <th>35</th>\n",
       "      <td>55</td>\n",
       "      <td>31.6</td>\n",
       "      <td>54495</td>\n",
       "    </tr>\n",
       "    <tr>\n",
       "      <th>37</th>\n",
       "      <td>55</td>\n",
       "      <td>31.6</td>\n",
       "      <td>51992</td>\n",
       "    </tr>\n",
       "    <tr>\n",
       "      <th>39</th>\n",
       "      <td>55</td>\n",
       "      <td>31.6</td>\n",
       "      <td>52969</td>\n",
       "    </tr>\n",
       "    <tr>\n",
       "      <th>41</th>\n",
       "      <td>55</td>\n",
       "      <td>31.6</td>\n",
       "      <td>53044</td>\n",
       "    </tr>\n",
       "    <tr>\n",
       "      <th>42</th>\n",
       "      <td>55</td>\n",
       "      <td>31.6</td>\n",
       "      <td>53251</td>\n",
       "    </tr>\n",
       "    <tr>\n",
       "      <th>43</th>\n",
       "      <td>55</td>\n",
       "      <td>31.6</td>\n",
       "      <td>52344</td>\n",
       "    </tr>\n",
       "    <tr>\n",
       "      <th>44</th>\n",
       "      <td>55</td>\n",
       "      <td>31.6</td>\n",
       "      <td>52071</td>\n",
       "    </tr>\n",
       "    <tr>\n",
       "      <th>47</th>\n",
       "      <td>55</td>\n",
       "      <td>31.6</td>\n",
       "      <td>52824</td>\n",
       "    </tr>\n",
       "    <tr>\n",
       "      <th>49</th>\n",
       "      <td>55</td>\n",
       "      <td>31.6</td>\n",
       "      <td>53642</td>\n",
       "    </tr>\n",
       "    <tr>\n",
       "      <th>50</th>\n",
       "      <td>55</td>\n",
       "      <td>31.6</td>\n",
       "      <td>55331</td>\n",
       "    </tr>\n",
       "    <tr>\n",
       "      <th>53</th>\n",
       "      <td>55</td>\n",
       "      <td>31.6</td>\n",
       "      <td>53052</td>\n",
       "    </tr>\n",
       "    <tr>\n",
       "      <th>54</th>\n",
       "      <td>55</td>\n",
       "      <td>31.6</td>\n",
       "      <td>52202</td>\n",
       "    </tr>\n",
       "    <tr>\n",
       "      <th>55</th>\n",
       "      <td>55</td>\n",
       "      <td>31.6</td>\n",
       "      <td>52204</td>\n",
       "    </tr>\n",
       "    <tr>\n",
       "      <th>56</th>\n",
       "      <td>55</td>\n",
       "      <td>31.0</td>\n",
       "      <td>54509</td>\n",
       "    </tr>\n",
       "    <tr>\n",
       "      <th>57</th>\n",
       "      <td>55</td>\n",
       "      <td>31.0</td>\n",
       "      <td>54985</td>\n",
       "    </tr>\n",
       "    <tr>\n",
       "      <th>58</th>\n",
       "      <td>55</td>\n",
       "      <td>31.0</td>\n",
       "      <td>53786</td>\n",
       "    </tr>\n",
       "    <tr>\n",
       "      <th>61</th>\n",
       "      <td>55</td>\n",
       "      <td>31.0</td>\n",
       "      <td>52964</td>\n",
       "    </tr>\n",
       "    <tr>\n",
       "      <th>62</th>\n",
       "      <td>55</td>\n",
       "      <td>31.0</td>\n",
       "      <td>54522</td>\n",
       "    </tr>\n",
       "    <tr>\n",
       "      <th>65</th>\n",
       "      <td>55</td>\n",
       "      <td>31.0</td>\n",
       "      <td>52239</td>\n",
       "    </tr>\n",
       "    <tr>\n",
       "      <th>67</th>\n",
       "      <td>55</td>\n",
       "      <td>31.0</td>\n",
       "      <td>55717</td>\n",
       "    </tr>\n",
       "    <tr>\n",
       "      <th>70</th>\n",
       "      <td>55</td>\n",
       "      <td>29.7</td>\n",
       "      <td>55600</td>\n",
       "    </tr>\n",
       "    <tr>\n",
       "      <th>73</th>\n",
       "      <td>55</td>\n",
       "      <td>29.7</td>\n",
       "      <td>55195</td>\n",
       "    </tr>\n",
       "    <tr>\n",
       "      <th>75</th>\n",
       "      <td>55</td>\n",
       "      <td>29.7</td>\n",
       "      <td>56945</td>\n",
       "    </tr>\n",
       "    <tr>\n",
       "      <th>80</th>\n",
       "      <td>55</td>\n",
       "      <td>29.7</td>\n",
       "      <td>59053</td>\n",
       "    </tr>\n",
       "    <tr>\n",
       "      <th>81</th>\n",
       "      <td>55</td>\n",
       "      <td>29.7</td>\n",
       "      <td>58843</td>\n",
       "    </tr>\n",
       "    <tr>\n",
       "      <th>83</th>\n",
       "      <td>55</td>\n",
       "      <td>29.7</td>\n",
       "      <td>55748</td>\n",
       "    </tr>\n",
       "  </tbody>\n",
       "</table>\n",
       "</div>"
      ],
      "text/plain": [
       "    volume  jarak  pixel\n",
       "7       55   30.7  56897\n",
       "9       55   30.7  58183\n",
       "15      55   30.7  54665\n",
       "21      55   31.6  53032\n",
       "28      55   31.6  52405\n",
       "29      55   31.6  53574\n",
       "31      55   31.6  53913\n",
       "32      55   31.6  53434\n",
       "33      55   31.6  53641\n",
       "35      55   31.6  54495\n",
       "37      55   31.6  51992\n",
       "39      55   31.6  52969\n",
       "41      55   31.6  53044\n",
       "42      55   31.6  53251\n",
       "43      55   31.6  52344\n",
       "44      55   31.6  52071\n",
       "47      55   31.6  52824\n",
       "49      55   31.6  53642\n",
       "50      55   31.6  55331\n",
       "53      55   31.6  53052\n",
       "54      55   31.6  52202\n",
       "55      55   31.6  52204\n",
       "56      55   31.0  54509\n",
       "57      55   31.0  54985\n",
       "58      55   31.0  53786\n",
       "61      55   31.0  52964\n",
       "62      55   31.0  54522\n",
       "65      55   31.0  52239\n",
       "67      55   31.0  55717\n",
       "70      55   29.7  55600\n",
       "73      55   29.7  55195\n",
       "75      55   29.7  56945\n",
       "80      55   29.7  59053\n",
       "81      55   29.7  58843\n",
       "83      55   29.7  55748"
      ]
     },
     "execution_count": 32,
     "metadata": {},
     "output_type": "execute_result"
    }
   ],
   "source": [
    "data_new = data.loc[data[\"volume\"] == 55]\n",
    "data_new"
   ]
  },
  {
   "cell_type": "code",
   "execution_count": 33,
   "metadata": {},
   "outputs": [
    {
     "data": {
      "text/plain": [
       "54264.885714285716"
      ]
     },
     "execution_count": 33,
     "metadata": {},
     "output_type": "execute_result"
    }
   ],
   "source": [
    "mean = data_new[\"pixel\"].mean().sum()\n",
    "mean"
   ]
  },
  {
   "cell_type": "code",
   "execution_count": 34,
   "metadata": {},
   "outputs": [
    {
     "name": "stdout",
     "output_type": "stream",
     "text": [
      "0.8756470712573597\n"
     ]
    }
   ],
   "source": [
    "data_test = data.loc[data[\"jarak\"] == 31.6]\n",
    "x, y = data_test[[\"pixel\", \"jarak\"]], data_test.volume\n",
    "x = sm.add_constant(x)\n",
    "model = sm.OLS(y,x).fit()\n",
    "\n",
    "print(model.rsquared_adj)"
   ]
  },
  {
   "cell_type": "code",
   "execution_count": 35,
   "metadata": {},
   "outputs": [
    {
     "data": {
      "image/png": "[encoded data removed]",
      "text/plain": [
       "<Figure size 432x288 with 1 Axes>"
      ]
     },
     "metadata": {
      "needs_background": "light"
     },
     "output_type": "display_data"
    }
   ],
   "source": [
    "plt.scatter(data_test[\"pixel\"], y)\n",
    "plt.show()"
   ]
  }
 ],
 "metadata": {
  "interpreter": {
   "hash": "ecf5722fdaf1897a315d257d89d94520bfcaa453217d5becf09b39e73618b0de"
  },
  "kernelspec": {
   "display_name": "Python 3.9.5 64-bit ('base': conda)",
   "language": "python",
   "name": "python3"
  },
  "language_info": {
   "codemirror_mode": {
    "name": "ipython",
    "version": 3
   },
   "file_extension": ".py",
   "mimetype": "text/x-python",
   "name": "python",
   "nbconvert_exporter": "python",
   "pygments_lexer": "ipython3",
   "version": "3.9.5"
  },
  "orig_nbformat": 4
 },
 "nbformat": 4,
 "nbformat_minor": 2
}
