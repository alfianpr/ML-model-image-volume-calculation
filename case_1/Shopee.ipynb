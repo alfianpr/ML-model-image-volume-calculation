{
  "nbformat": 4,
  "nbformat_minor": 0,
  "metadata": {
    "colab": {
      "name": "Shopee.ipynb",
      "provenance": [],
      "authorship_tag": "ABX9TyMW66l+IGHb3zYz1/KzaIua",
      "include_colab_link": true
    },
    "kernelspec": {
      "name": "python3",
      "display_name": "Python 3"
    },
    "language_info": {
      "name": "python"
    }
  },
  "cells": [
    {
      "cell_type": "markdown",
      "metadata": {
        "id": "view-in-github",
        "colab_type": "text"
      },
      "source": [
        "<a href=\"https://colab.research.google.com/github/alfianpr/perhitungan-volume-objek-simetri/blob/main/case_1/Shopee.ipynb\" target=\"_parent\"><img src=\"https://colab.research.google.com/assets/colab-badge.svg\" alt=\"Open In Colab\"/></a>"
      ]
    },
    {
      "cell_type": "code",
      "metadata": {
        "id": "m3-M09todULN"
      },
      "source": [
        "#Load semua library yang dibutuhkan\n",
        "from selenium import webdriver\n",
        "import pandas as pd\n",
        "from selenium.webdriver.common.by import By\n",
        "from selenium.webdriver.chrome.service import Service\n",
        "\n",
        "#menyiapkan dataset yang nanti akan berisi data hasil scraping\n",
        "dataset = pd.DataFrame(columns=['SKU', 'Harga', 'Jumlah_Penjualan', 'Halaman'])\n",
        "\n",
        "#Setting webdriver versi chrome\n",
        "s = Service('/usr/local/bin/chromedriver.exe')\n",
        "driver = webdriver.Chrome(service=s)\n",
        "\n",
        "#Fungsi looping untuk mengekstrak informasi yang dibutuhkan dari setiap halaman\n",
        "for pg in range(0,1): #Halaman yang mau di scrape\n",
        "  page_num = str(pg)\n",
        "  brand = \"rockbros\" #Nama brand yang mau dicari informasinya\n",
        "  shopee_url = 'https://shopee.co.id/search?keyword={}&page='.format(brand)+page_num\n",
        "  driver.get(shopee_url)\n",
        "  \n",
        "  #Informasi-informasi yang dibutuhkan\n",
        "  nama = driver.find_elements(By.XPATH, '//div[@class=\"_10Wbs- _5SSWfi UjjMrh\"]')\n",
        "  harga = driver.find_elements(By.XPATH, '//span[@class=\"_1d9_77\"]')\n",
        "  penjualan = driver.find_elements(By.XPATH, '//div[@class=\"_2VIlt8\"]')\n",
        "\n",
        "  #Membuat list data nama, harga dan penjumlahan untuk menampung data hasil scraping\n",
        "  nama_list = []\n",
        "  for p in range(len(nama)):\n",
        "    try : nama_list.append(nama[p].text)\n",
        "    except : nama_list.append(\"0\")\n",
        "\n",
        "  harga_list = []\n",
        "  for x in range(len(harga)):\n",
        "    try : harga_list.append(harga[x].text.replace('.', ''))\n",
        "    except : harga_list.append(\"0\")\n",
        "\n",
        "  penjualan_list = []\n",
        "  for z in range(len(penjualan)):\n",
        "    try : penjualan_list.append(penjualan[z].text.split()[0].replace('RB','000').replace(',',''))\n",
        "    except : penjualan_list.append(\"0\")\n",
        "\n",
        "  #menyusun semua list yang sudah didapat menjadi dataset \n",
        "  data_tuples = list(zip(nama_list[1:], harga_list[1:], penjualan_list[1:]))\n",
        "  temp_data = pd.DataFrame(data_tuples, columns=['SKU', 'Harga', 'Jumlah_Penjualan'])\n",
        "  temp_data['Halaman'] = pg+1\n",
        "  dataset = dataset.append(temp_data)\n",
        "\n",
        "driver.close()"
      ],
      "execution_count": 110,
      "outputs": []
    },
    {
      "cell_type": "code",
      "metadata": {
        "colab": {
          "base_uri": "https://localhost:8080/",
          "height": 206
        },
        "id": "p1WoHnLJ94f5",
        "outputId": "565dd641-ccfd-46c1-e694-72d93bfbbff2"
      },
      "source": [
        "df = pd.DataFrame(dataset)\n",
        "\n",
        "#merubah tipe data harga dan jumlah penjualan menjadi integer\n",
        "df['Harga'] = df['Harga'].astype('int')\n",
        "df['Jumlah_Penjualan'] = df['Jumlah_Penjualan'].astype('int')\n",
        "\n",
        "#Estimasi GMV (harga * jumlah penjualan)\n",
        "df['GMV'] = df['Harga'] * df['Jumlah_Penjualan']\n",
        "\n",
        "\n",
        "df.head()"
      ],
      "execution_count": 118,
      "outputs": [
        {
          "output_type": "execute_result",
          "data": {
            "text/plain": [
              "                                                 SKU   Harga  \\\n",
              "0  ROCKBROS S106 Bike Glove Half Finger – Sarung ...   63900   \n",
              "1  HELM SEPEDA ROCKBROS TT30 ORIGINAL BICYCLE HEL...  361000   \n",
              "2  Lampu Sepeda Led Belakang Rockbros Q1 original...  380000   \n",
              "3  ROCKBROS M005BK Topi Sepeda Cycling Cap Bike H...   80750   \n",
              "4  ROCKBROS XT-9002 Arm Sleeve - Manset tangan Se...   63960   \n",
              "\n",
              "   Jumlah_Penjualan Halaman         GMV  \n",
              "0             33000       1  2108700000  \n",
              "1                55       1    19855000  \n",
              "2               891       1   338580000  \n",
              "3               389       1    31411750  \n",
              "4             36000       1 -1992407296  "
            ],
            "text/html": [
              "<div>\n",
              "<style scoped>\n",
              "    .dataframe tbody tr th:only-of-type {\n",
              "        vertical-align: middle;\n",
              "    }\n",
              "\n",
              "    .dataframe tbody tr th {\n",
              "        vertical-align: top;\n",
              "    }\n",
              "\n",
              "    .dataframe thead th {\n",
              "        text-align: right;\n",
              "    }\n",
              "</style>\n",
              "<table border=\"1\" class=\"dataframe\">\n",
              "  <thead>\n",
              "    <tr style=\"text-align: right;\">\n",
              "      <th></th>\n",
              "      <th>SKU</th>\n",
              "      <th>Harga</th>\n",
              "      <th>Jumlah_Penjualan</th>\n",
              "      <th>Halaman</th>\n",
              "      <th>GMV</th>\n",
              "    </tr>\n",
              "  </thead>\n",
              "  <tbody>\n",
              "    <tr>\n",
              "      <th>0</th>\n",
              "      <td>ROCKBROS S106 Bike Glove Half Finger – Sarung ...</td>\n",
              "      <td>63900</td>\n",
              "      <td>33000</td>\n",
              "      <td>1</td>\n",
              "      <td>2108700000</td>\n",
              "    </tr>\n",
              "    <tr>\n",
              "      <th>1</th>\n",
              "      <td>HELM SEPEDA ROCKBROS TT30 ORIGINAL BICYCLE HEL...</td>\n",
              "      <td>361000</td>\n",
              "      <td>55</td>\n",
              "      <td>1</td>\n",
              "      <td>19855000</td>\n",
              "    </tr>\n",
              "    <tr>\n",
              "      <th>2</th>\n",
              "      <td>Lampu Sepeda Led Belakang Rockbros Q1 original...</td>\n",
              "      <td>380000</td>\n",
              "      <td>891</td>\n",
              "      <td>1</td>\n",
              "      <td>338580000</td>\n",
              "    </tr>\n",
              "    <tr>\n",
              "      <th>3</th>\n",
              "      <td>ROCKBROS M005BK Topi Sepeda Cycling Cap Bike H...</td>\n",
              "      <td>80750</td>\n",
              "      <td>389</td>\n",
              "      <td>1</td>\n",
              "      <td>31411750</td>\n",
              "    </tr>\n",
              "    <tr>\n",
              "      <th>4</th>\n",
              "      <td>ROCKBROS XT-9002 Arm Sleeve - Manset tangan Se...</td>\n",
              "      <td>63960</td>\n",
              "      <td>36000</td>\n",
              "      <td>1</td>\n",
              "      <td>-1992407296</td>\n",
              "    </tr>\n",
              "  </tbody>\n",
              "</table>\n",
              "</div>"
            ]
          },
          "metadata": {},
          "execution_count": 118
        }
      ]
    },
    {
      "cell_type": "code",
      "metadata": {
        "id": "RF1xwI3v5UvQ"
      },
      "source": [
        "#menyimpan dataset sesuai nama brand dalam format CSV\n",
        "df.to_csv (\"{}.csv\".format(brand))"
      ],
      "execution_count": 119,
      "outputs": []
    }
  ]
}